{
 "cells": [
  {
   "cell_type": "markdown",
   "source": [
    "# Class 6: Word embeddings\n",
    "\n"
   ],
   "metadata": {}
  },
  {
   "cell_type": "markdown",
   "source": [
    "## Preparation for class\n",
    "---\n",
    "\n",
    "So was sick friday so didn't get the chance to get this out before the weekend. So you really don't have to prepare anything, but I might be worth going through the gensim section code to get an overview before class and to make sure that everything work as intended."
   ],
   "metadata": {}
  },
  {
   "cell_type": "markdown",
   "source": [
    "## Gensim\n",
    "---\n"
   ],
   "metadata": {}
  },
  {
   "cell_type": "markdown",
   "source": [
    "You can install gensim simply using: \n",
    "```py\n",
    "pip install gensim\n",
    "```\n"
   ],
   "metadata": {}
  },
  {
   "cell_type": "markdown",
   "source": [
    "### Using Gensim\n",
    "to start us of we can download the word embeddings we will use for class using:"
   ],
   "metadata": {}
  },
  {
   "cell_type": "code",
   "execution_count": 1,
   "source": [
    "import gensim.downloader as api\n",
    "\n",
    "# Pre-trained vectors based on Wikipedia 2014 + Gigaword, \n",
    "# 5.6B tokens, 400K vocab, \n",
    "# uncased (https://nlp.stanford.edu/projects/glove/).\n",
    "# embedding size 50 (so fairly small, but easy to work with)\n",
    "word_emb = api.load(\"glove-wiki-gigaword-300\")"
   ],
   "outputs": [],
   "metadata": {}
  },
  {
   "cell_type": "markdown",
   "source": [
    "We can the parts of the word embedding class here, but I do encourage you to inspect it a bit more using e.g. `dir(word_emb)` or `help(word_emb)`:"
   ],
   "metadata": {}
  },
  {
   "cell_type": "code",
   "execution_count": 72,
   "source": [
    "print(type(word_emb))\n",
    "\n",
    "# inspecting the vocabulary (keys in the dictionary)\n",
    "vocab = word_emb.key_to_index.keys()\n",
    "vocab = sorted(list(vocab)) # sort the vocab\n",
    "print(vocab[:10])\n",
    "print(vocab[51000: 51010])\n",
    "print(vocab[-10:])"
   ],
   "outputs": [
    {
     "output_type": "stream",
     "name": "stdout",
     "text": "<class 'gensim.models.keyedvectors.KeyedVectors'>\n['!', '!!', '!!!', '!!!!', '!!!!!', '!?', '!?!', '\"', '#', '##']\n['alemtuzumab', 'alemu', 'alemán', 'alemão', 'alen', 'alena', 'alencar', 'alencon', 'alendronate', 'alene']\n['門下省', '魏博', '鳳翔', '법정동', '행정동', 'ﬁeld', 'ﬁgures', 'ﬁnds', 'ﬁrst', '￥']\n"
    }
   ],
   "metadata": {}
  },
  {
   "cell_type": "markdown",
   "source": [
    "We can now extract word embeddings for words in the vocabulary:"
   ],
   "metadata": {}
  },
  {
   "cell_type": "code",
   "execution_count": 28,
   "source": [
    "# fetch the word embedding for class\n",
    "glass = word_emb[\"glass\"]\n",
    "print(type(glass))\n",
    "print(glass.shape) # fairly small word embedding (50)\n",
    "\n",
    "# check if word in vocabulary(50)\n",
    "\n",
    "print(\"aarhus\" in word_emb)\n"
   ],
   "outputs": [
    {
     "output_type": "stream",
     "name": "stdout",
     "text": "<class 'numpy.ndarray'>\n(300,)\nTrue\n"
    }
   ],
   "metadata": {}
  },
  {
   "cell_type": "markdown",
   "source": [
    "As you probably know from the lectures the similarity between word embedding is calculated using cosine similarity, which you might recall we implemented in the introduction week. We can use this to calculate the similarity between a couple of vectors here:"
   ],
   "metadata": {}
  },
  {
   "cell_type": "code",
   "execution_count": 20,
   "source": [
    "import numpy as np\n",
    "def cosine(a, b):\n",
    "    return np.dot(a, b) / (np.linalg.norm(a) * np.linalg.norm(b))\n",
    "\n",
    "for w1, w2 in [(\"dog\", \"dog\"), (\"dog\", \"glass\"), (\"dog\", \"cat\")]:\n",
    "    sim = cosine(word_emb[w1], word_emb[w2])\n",
    "    print(f\"the similarity between {w1} and {w2} is {round(sim, 2)}\")\n",
    "\n",
    "# You can also calculate this using gensim:\n",
    "word_emb.similarity('dog', 'glass')\n"
   ],
   "outputs": [
    {
     "output_type": "stream",
     "name": "stdout",
     "text": "the similarity between dog and dog is 1.0\nthe similarity between dog and glass is 0.27000001072883606\nthe similarity between dog and cat is 0.9200000166893005\n"
    },
    {
     "output_type": "execute_result",
     "data": {
      "text/plain": "0.27108675"
     },
     "metadata": {},
     "execution_count": 20
    }
   ],
   "metadata": {}
  },
  {
   "cell_type": "markdown",
   "source": [
    "You could imagine doing this for all words in the corpus to get the most similar words to `dog`, using gensim this can be done simply using:"
   ],
   "metadata": {}
  },
  {
   "cell_type": "code",
   "execution_count": 23,
   "source": [
    "print(word_emb.most_similar(\"dog\", topn=10))"
   ],
   "outputs": [
    {
     "output_type": "stream",
     "name": "stdout",
     "text": "[('cat', 0.9218004941940308), ('dogs', 0.8513158559799194), ('horse', 0.7907583713531494), ('puppy', 0.7754920721054077), ('pet', 0.7724708318710327), ('rabbit', 0.7720814347267151), ('pig', 0.7490062117576599), ('snake', 0.7399188876152039), ('baby', 0.7395570278167725), ('bite', 0.7387937307357788)]\n"
    }
   ],
   "metadata": {}
  },
  {
   "cell_type": "markdown",
   "source": [
    "This function also helps you do analogies, *\"woman is to ____ what man is to king\"* or rephrased *king-man + woman = ?*:"
   ],
   "metadata": {}
  },
  {
   "cell_type": "code",
   "execution_count": 25,
   "source": [
    "# you can also do analogies using this function:\n",
    "sim = word_emb.most_similar(positive = [\"woman\", \"king\"], negative=[\"man\"], topn=1)\n",
    "print(sim)"
   ],
   "outputs": [
    {
     "output_type": "stream",
     "name": "stdout",
     "text": "[('queen', 0.8523604273796082)]\n"
    }
   ],
   "metadata": {}
  },
  {
   "cell_type": "markdown",
   "source": [
    "Naturally the phrase *\"king - man + woman = ?\"* is nonsense, you can't do mathematics with words, but you can with word embeddings. So let us just go through what is going on here:\n",
    "We start of taking the word embedding of king $w_{king}$ substract the word embedding for man $w_{man}$ and then add the word embedding for women $w_{woman}$, thus we have: \n",
    "\n",
    "$$w_{anology} = w_{king} - w_{man} + w_{woman}$$\n",
    "\n",
    "Naturally it would be extremely coincidental that we were to have $w_{anology}$ being equal to $w_{queen}$, what we actually do is calculate the similarity between all vectors and $w_{anology}$ and find that $w_{queen}$ is the closest to that one, thus: \n",
    "\n",
    "$$w_{anology} \\sim w_{queen}$$\n",
    "\n",
    "Do note that we are working with vectors and that these are [cummutative](https://en.wikipedia.org/wiki/Commutative_property) (e.g. $v_1 + v_2 = v_2 + v_1$) thus it is just as valid to write:\n",
    "\n",
    "$$w_{anology} = w_{king} + w_{woman} - w_{man} = w_{king} + (w_{woman} - w_{man})$$\n",
    "\n",
    "Where you can interpret $w_{woman} - w_{man}$ as the *gender component* assuming that everything else about the usage of man and woman is similar i.e. they both refer to human, typically adult and seen as a neutral gendered description of a person. Even in simple cases such as this one it is trivially not true, *man* can even refer to a member of mankind (*god cares for all men*) an authority (*the man*) or can be used as an exclamation (*oh man*). \n",
    "\n",
    "\n",
    "<details>\n",
    "    <summary> That sounds like a problem, what do we do to solve it? </summary>\n",
    "\n",
    "Glad you ask. Well there are multiple and probably more than I don't know of. One way is to concieve the other meanings as noise in the *gender component* and one way to remove it is to average over mulitple gender components (another one could be $w_{girl} - w_{boy}$), you could probably imagine others as well. Another way is to disambiguate the word embeddings (by created the word embedding for each different meaning of the word), not a trivial task, but one place where you can start is including the part-of-speech tag and thus distingushing between e.g. *desert* as verb or *desert* as a noun. Word sense disambiguation is still an active area of reasearch.\n",
    "\n",
    "\n",
    "</details>\n",
    "\n",
    "<br /> \n"
   ],
   "metadata": {}
  },
  {
   "cell_type": "markdown",
   "source": [
    "### Understanding Super class initialization\n",
    "We will go through this example at the start of class"
   ],
   "metadata": {}
  },
  {
   "cell_type": "code",
   "execution_count": 8,
   "source": [
    "class person():\n",
    "    def __init__(self, name, year_of_birth):\n",
    "        self.name = name\n",
    "        self.age = 2021-year_of_birth\n",
    "    \n",
    "    def say_hello(self):\n",
    "        print(f\"Hello my name is {self.name} and I am {self.age} years old\")\n",
    "\n",
    "class researcher(person):\n",
    "    def __init__(self, loc, employment):\n",
    "        self.loc = loc\n",
    "        self.employment = employment\n",
    "        \n",
    "    def say_hello(self):\n",
    "        print(f\"Hello I am currently a {self.employment}, at {self.loc}\")\n",
    "\n",
    "\n",
    "kenneth = researcher(\"Aarhus\", \"phd\")\n",
    "kenneth.say_hello()\n",
    "# problem 1:\n",
    "    # I want to reuse code from the init of person without copy pasting\n",
    "# problem 2:\n",
    "    # I want to be able to call the say_hello function of the parent class\n",
    "    # e.g. kenneth.say_ordinary_hello()"
   ],
   "outputs": [
    {
     "output_type": "stream",
     "name": "stdout",
     "text": [
      "Hello I am currently a phd, at Aarhus\n"
     ]
    }
   ],
   "metadata": {}
  },
  {
   "cell_type": "markdown",
   "source": [
    "What does the pytorch nn.Module init then do? Well from the [source code](https://pytorch.org/docs/stable/_modules/torch/nn/modules/module.html#Module) we find the following:\n",
    "\n",
    "```py\n",
    "    def __init__(self):\n",
    "        \"\"\"\n",
    "        Initializes internal Module state, shared by both nn.Module and ScriptModule.\n",
    "        \"\"\"\n",
    "        torch._C._log_api_usage_once(\"python.nn_module\")\n",
    "\n",
    "        self.training = True\n",
    "        self._parameters = OrderedDict()\n",
    "        self._buffers = OrderedDict()\n",
    "        self._non_persistent_buffers_set = set()\n",
    "        self._backward_hooks = OrderedDict()\n",
    "        self._is_full_backward_hook = None\n",
    "        self._forward_hooks = OrderedDict()\n",
    "        self._forward_pre_hooks = OrderedDict()\n",
    "        self._state_dict_hooks = OrderedDict()\n",
    "        self._load_state_dict_pre_hooks = OrderedDict()\n",
    "        self._modules = OrderedDict()\n",
    "```\n",
    "\n",
    "Which notably sets a couple of internal states (noticably self.training=True), and log it to the pytorch API."
   ],
   "metadata": {}
  },
  {
   "cell_type": "markdown",
   "source": [
    "## Exercises\n",
    "---\n"
   ],
   "metadata": {}
  },
  {
   "cell_type": "markdown",
   "source": [
    "you are not required to solve these tasks in any particular order. Exercise 6 is more challenging than the rest so if you are up for a challenge go for it.\n",
    "\n",
    "1) Skim/read through the Gensim section to get an overview of how to work with word embeddings. \n",
    "2) What is to woman what man to doctor (according to the word embedding)? Is this problematic?\n",
    "3) Discuss how you could use word embeddings to find pluralis of a word\n",
    "  - apply it to three cases\n",
    "  - plot these, does there seem to be a *plural component*?\n",
    "3) Discuss how you would find the antonym of a word\n",
    "  - apply it to three cases\n",
    "  - plot these, does there seem to be a *antonym component*?\n",
    "4) You can also use word embedding to detect the odd one out for instance which word does not belong in *Ross, Kenneth, Tim, glass*? You can do this simply using: `word_emb.doesnt_match(\"kenneth ross tim glass\".split())`. Try this out on three samples.\n",
    "  - Typically word embeddings are quite intuitive, discuss or write down your best answer to how one might find the odd one out?\n",
    "\n",
    "<details>\n",
    "    <summary> Answer </summary>\n",
    "\n",
    "The function works by:\n",
    "\n",
    "- taking the mean of all the word-embeddings.\n",
    "- calculate the similarity (typically using cosine-similarity) from the mean to each word\n",
    "- return the most dissimilar word (i.e. the one with the highest cosine-distance from that mean vector).\n",
    "\n",
    "Do note that while your answer might not be the same it might still work as there are multiple ways of doing this. For instance you could also add up the distance between each word and every other word and see which one is the furthest away from all other points.\n",
    "\n",
    "</details>\n",
    "\n",
    "5) Which word embedding is closest to the word embedding of *corona*; *virus* or *beer*? Justify your answer before you test it using the word embedding.\n",
    "  - What does this tell you about word embeddings?\n",
    "6) Word embedding for token classification\n",
    "  - We will here use token embeddding for classifying part-of-speech tags (i.e. whether a word is a noun or a verb), but this approach could just as well be used to classify whether a word is named entity or whether it is positive or negative. We will here use the English dependency treebank. In the utilities section below I have provided some functions to get you started, but I recommend solving it in 3 steps:\n",
    "    1) transform the words to word embeddings\n",
    "    2) Train a classifier to predict the pos-tag using e.g. logistic regression\n",
    "    3) calculate the performance metrics on the held out test set (how well does it perform on unseen words?)"
   ],
   "metadata": {}
  },
  {
   "cell_type": "code",
   "execution_count": 26,
   "metadata": {},
   "outputs": [
    {
     "output_type": "stream",
     "name": "stdout",
     "text": "[('physician', 0.6098570823669434)]\n[('woman', 0.6998663544654846), ('person', 0.6443442106246948), ('boy', 0.6208277940750122), ('he', 0.5926738381385803), ('men', 0.5819568634033203), ('himself', 0.5810033082962036), ('one', 0.5779521465301514), ('another', 0.5721587538719177), ('who', 0.5703631639480591), ('him', 0.5670831203460693)]\n"
    }
   ],
   "source": [
    "# 2) What is to woman what man is to doctor? \n",
    "sim = word_emb.most_similar(positive = [\"woman\",\"doctor\"], negative = ['man'], topn=1)\n",
    "print(sim)\n",
    "\n",
    "sim = word_emb.most_similar(positive = \"man\") # restriction; it can never return the same vector as is it's input\n",
    "print(sim)\n"
   ]
  },
  {
   "cell_type": "code",
   "execution_count": 52,
   "metadata": {},
   "outputs": [
    {
     "output_type": "stream",
     "name": "stdout",
     "text": "[('dogs', 0.7930116057395935)]\n[('women', 0.8786945939064026)]\n[('rabbits', 0.6108177900314331)]\n[('mice', 0.5166829228401184)]\n"
    }
   ],
   "source": [
    "# 3) How to find plural? \n",
    "sim = word_emb.most_similar(positive = ['dog','cats'], negative = ['cat'],topn=1)\n",
    "print(sim)\n",
    "\n",
    "sim = word_emb.most_similar(positive = ['men','woman'], negative = ['man'],topn=1)\n",
    "print(sim)\n",
    "\n",
    "sim = word_emb.most_similar(positive = ['rabbit','computers'], negative = ['computer'],topn=1)\n",
    "print(sim)\n",
    "\n",
    "sim = word_emb.most_similar(positive = ['houses','mouse'], negative = ['house'],topn=1)\n",
    "print(sim)"
   ]
  },
  {
   "cell_type": "code",
   "execution_count": 69,
   "metadata": {},
   "outputs": [
    {
     "output_type": "stream",
     "name": "stdout",
     "text": "[('happy', 0.5914756059646606)]\n[('cool', 0.5465863943099976)]\n[('indeed', 0.6467819809913635)]\n"
    }
   ],
   "source": [
    "# 3) Antonym \n",
    "sim = word_emb.most_similar(positive = ['sad','good'], negative=['bad'],topn=1)\n",
    "print(sim)\n",
    "\n",
    "sim = word_emb.most_similar(positive = ['warm','black'], negative='white', topn=1)\n",
    "print(sim)\n",
    "\n",
    "sim = word_emb.most_similar(positive = ['fact','fall'], negative='spring', topn=1)\n",
    "print(sim)"
   ]
  },
  {
   "cell_type": "code",
   "execution_count": 13,
   "metadata": {},
   "outputs": [
    {
     "output_type": "stream",
     "name": "stdout",
     "text": "bottle\nglass\ntable\n"
    }
   ],
   "source": [
    "# 4) No match\n",
    "nomatch = word_emb.doesnt_match(\"Signe Sara Kenneth bottle\".split())\n",
    "print(nomatch)\n",
    "\n",
    "nomatch = word_emb.doesnt_match(\"spoon fork knife glass\".split())\n",
    "print(nomatch)\n",
    "\n",
    "nomatch = word_emb.doesnt_match(\"computer apple mouse table\".split())\n",
    "print(nomatch)\n"
   ]
  },
  {
   "cell_type": "code",
   "execution_count": 21,
   "metadata": {},
   "outputs": [
    {
     "output_type": "stream",
     "name": "stdout",
     "text": "0.1978268\n0.083197795\n"
    }
   ],
   "source": [
    "# 5) which is closest to corona; beer or virus? \n",
    "sim = word_emb.similarity(\"corona\",\"beer\")\n",
    "print(sim)\n",
    "sim = word_emb.similarity(\"corona\",\"virus\")\n",
    "print(sim)"
   ]
  },
  {
   "cell_type": "markdown",
   "source": [
    "## Utilities for tagging POS using word embeddings\n",
    "This contain a bunch of utility functions for getting started using word embeddings for classifying part of speech tags.\n",
    "\n",
    "Including a 1) logistic classifier (or a softmax classifier), 2) a function to load in the dataset as a list of token, pos-tag pairs, and 3) a code snippet for turning the label into one hot vectors.  \n",
    "\n",
    "You can read more about the individual [pos-tags](https://universaldependencies.org/docsv1/en/pos/all.html) here."
   ],
   "metadata": {}
  },
  {
   "cell_type": "code",
   "execution_count": 9,
   "source": [
    "import os\n",
    "\n",
    "from spacy.training import Corpus\n",
    "import spacy\n",
    "\n",
    "# change this so it fits your file structure:\n",
    "path = os.path.join(\"..\", \"data\", \"English Dependency Treeback\", \"en_ewt-ud-train.spacy\")\n",
    "# and use en_ewt-ud-dev.spacy and en_ewt-ud-test.spacy for the dev and test set.\n",
    "\n",
    "def load_pos_data(path: str) -> list:\n",
    "    corpus = Corpus(path)\n",
    "\n",
    "    nlp = spacy.blank(\"en\")\n",
    "\n",
    "    def extract_token_label_pair(example):\n",
    "        e = example.to_dict()\n",
    "        tokens = e[\"token_annotation\"][\"ORTH\"]\n",
    "        entity_labels = e[\"token_annotation\"][\"POS\"]\n",
    "        return zip(tokens, entity_labels)\n",
    "    train_samples = [(token, label) for example in corpus(nlp) for token, label in extract_token_label_pair(example)]\n",
    "\n",
    "    return train_samples\n",
    "\n",
    "train = load_pos_data(path)"
   ],
   "outputs": [],
   "metadata": {}
  },
  {
   "cell_type": "code",
   "execution_count": 10,
   "source": [
    "# exploring the output\n",
    "print(train[:10])\n",
    "\n",
    "tokens, labels = list(zip(*train))\n",
    "print(tokens[:10])"
   ],
   "outputs": [
    {
     "output_type": "stream",
     "name": "stdout",
     "text": [
      "[('Al', 'PROPN'), ('-', 'PUNCT'), ('Zaman', 'PROPN'), (':', 'PUNCT'), ('American', 'ADJ'), ('forces', 'NOUN'), ('killed', 'VERB'), ('Shaikh', 'PROPN'), ('Abdullah', 'PROPN'), ('al', 'PROPN')]\n",
      "('Al', '-', 'Zaman', ':', 'American', 'forces', 'killed', 'Shaikh', 'Abdullah', 'al')\n"
     ]
    }
   ],
   "metadata": {}
  },
  {
   "cell_type": "code",
   "execution_count": 11,
   "source": [
    "# convert labels to one hot\n",
    "import pandas as pd\n",
    "df = pd.get_dummies(labels)\n",
    "y = df.to_numpy() # One hot representation of the labels\n",
    "df.head()"
   ],
   "outputs": [
    {
     "output_type": "execute_result",
     "data": {
      "text/html": [
       "<div>\n",
       "<style scoped>\n",
       "    .dataframe tbody tr th:only-of-type {\n",
       "        vertical-align: middle;\n",
       "    }\n",
       "\n",
       "    .dataframe tbody tr th {\n",
       "        vertical-align: top;\n",
       "    }\n",
       "\n",
       "    .dataframe thead th {\n",
       "        text-align: right;\n",
       "    }\n",
       "</style>\n",
       "<table border=\"1\" class=\"dataframe\">\n",
       "  <thead>\n",
       "    <tr style=\"text-align: right;\">\n",
       "      <th></th>\n",
       "      <th>ADJ</th>\n",
       "      <th>ADP</th>\n",
       "      <th>ADV</th>\n",
       "      <th>AUX</th>\n",
       "      <th>CCONJ</th>\n",
       "      <th>DET</th>\n",
       "      <th>INTJ</th>\n",
       "      <th>NOUN</th>\n",
       "      <th>NUM</th>\n",
       "      <th>PART</th>\n",
       "      <th>PRON</th>\n",
       "      <th>PROPN</th>\n",
       "      <th>PUNCT</th>\n",
       "      <th>SCONJ</th>\n",
       "      <th>SYM</th>\n",
       "      <th>VERB</th>\n",
       "      <th>X</th>\n",
       "    </tr>\n",
       "  </thead>\n",
       "  <tbody>\n",
       "    <tr>\n",
       "      <th>0</th>\n",
       "      <td>0</td>\n",
       "      <td>0</td>\n",
       "      <td>0</td>\n",
       "      <td>0</td>\n",
       "      <td>0</td>\n",
       "      <td>0</td>\n",
       "      <td>0</td>\n",
       "      <td>0</td>\n",
       "      <td>0</td>\n",
       "      <td>0</td>\n",
       "      <td>0</td>\n",
       "      <td>1</td>\n",
       "      <td>0</td>\n",
       "      <td>0</td>\n",
       "      <td>0</td>\n",
       "      <td>0</td>\n",
       "      <td>0</td>\n",
       "    </tr>\n",
       "    <tr>\n",
       "      <th>1</th>\n",
       "      <td>0</td>\n",
       "      <td>0</td>\n",
       "      <td>0</td>\n",
       "      <td>0</td>\n",
       "      <td>0</td>\n",
       "      <td>0</td>\n",
       "      <td>0</td>\n",
       "      <td>0</td>\n",
       "      <td>0</td>\n",
       "      <td>0</td>\n",
       "      <td>0</td>\n",
       "      <td>0</td>\n",
       "      <td>1</td>\n",
       "      <td>0</td>\n",
       "      <td>0</td>\n",
       "      <td>0</td>\n",
       "      <td>0</td>\n",
       "    </tr>\n",
       "    <tr>\n",
       "      <th>2</th>\n",
       "      <td>0</td>\n",
       "      <td>0</td>\n",
       "      <td>0</td>\n",
       "      <td>0</td>\n",
       "      <td>0</td>\n",
       "      <td>0</td>\n",
       "      <td>0</td>\n",
       "      <td>0</td>\n",
       "      <td>0</td>\n",
       "      <td>0</td>\n",
       "      <td>0</td>\n",
       "      <td>1</td>\n",
       "      <td>0</td>\n",
       "      <td>0</td>\n",
       "      <td>0</td>\n",
       "      <td>0</td>\n",
       "      <td>0</td>\n",
       "    </tr>\n",
       "    <tr>\n",
       "      <th>3</th>\n",
       "      <td>0</td>\n",
       "      <td>0</td>\n",
       "      <td>0</td>\n",
       "      <td>0</td>\n",
       "      <td>0</td>\n",
       "      <td>0</td>\n",
       "      <td>0</td>\n",
       "      <td>0</td>\n",
       "      <td>0</td>\n",
       "      <td>0</td>\n",
       "      <td>0</td>\n",
       "      <td>0</td>\n",
       "      <td>1</td>\n",
       "      <td>0</td>\n",
       "      <td>0</td>\n",
       "      <td>0</td>\n",
       "      <td>0</td>\n",
       "    </tr>\n",
       "    <tr>\n",
       "      <th>4</th>\n",
       "      <td>1</td>\n",
       "      <td>0</td>\n",
       "      <td>0</td>\n",
       "      <td>0</td>\n",
       "      <td>0</td>\n",
       "      <td>0</td>\n",
       "      <td>0</td>\n",
       "      <td>0</td>\n",
       "      <td>0</td>\n",
       "      <td>0</td>\n",
       "      <td>0</td>\n",
       "      <td>0</td>\n",
       "      <td>0</td>\n",
       "      <td>0</td>\n",
       "      <td>0</td>\n",
       "      <td>0</td>\n",
       "      <td>0</td>\n",
       "    </tr>\n",
       "  </tbody>\n",
       "</table>\n",
       "</div>"
      ],
      "text/plain": [
       "   ADJ  ADP  ADV  AUX  CCONJ  DET  INTJ  NOUN  NUM  PART  PRON  PROPN  PUNCT  \\\n",
       "0    0    0    0    0      0    0     0     0    0     0     0      1      0   \n",
       "1    0    0    0    0      0    0     0     0    0     0     0      0      1   \n",
       "2    0    0    0    0      0    0     0     0    0     0     0      1      0   \n",
       "3    0    0    0    0      0    0     0     0    0     0     0      0      1   \n",
       "4    1    0    0    0      0    0     0     0    0     0     0      0      0   \n",
       "\n",
       "   SCONJ  SYM  VERB  X  \n",
       "0      0    0     0  0  \n",
       "1      0    0     0  0  \n",
       "2      0    0     0  0  \n",
       "3      0    0     0  0  \n",
       "4      0    0     0  0  "
      ]
     },
     "metadata": {},
     "execution_count": 11
    }
   ],
   "metadata": {}
  },
  {
   "cell_type": "code",
   "execution_count": 12,
   "source": [
    "import torch\n",
    "import torch.nn as nn\n",
    "\n",
    "\n",
    "class Logistic(nn.Module):\n",
    "    def __init__(self, n_input_features: int, n_output_features: int):\n",
    "        super().__init__()\n",
    "        self.linear = nn.Linear(n_input_features, n_output_features)\n",
    "        self.cost = nn.CrossEntropyLoss()\n",
    "\n",
    "    def forward(self, x: torch.Tensor) -> torch.Tensor:\n",
    "        return self.linear(x)\n",
    "    \n",
    "    def fit(self, X: torch.Tensor, y: torch.Tensor, epochs = 1000):\n",
    "        optimizer = torch.optim.AdamW(self.parameters())\n",
    "\n",
    "        for epoch in range(epochs):\n",
    "            # forward\n",
    "            y_hat = self.forward(X)\n",
    "\n",
    "            # backward\n",
    "            loss = self.cost(y_hat, y)\n",
    "            loss.backward()\n",
    "            optimizer.step()\n",
    "            optimizer.zero_grad()\n",
    "\n",
    "            # print\n",
    "            if (epoch + 1) % 100 == 0:\n",
    "                print(f\"epoch: {epoch+1}, loss = {loss.item():.4f}\")\n",
    "\n"
   ],
   "outputs": [],
   "metadata": {}
  },
  {
   "cell_type": "markdown",
   "source": [
    "## More on Word embeddings\n",
    "---"
   ],
   "metadata": {}
  },
  {
   "cell_type": "markdown",
   "source": [
    "\n",
    "Overview and introduction of word embeddings:\n",
    "\n",
    "- Andrew NG have a small [video series](https://www.youtube.com/playlist?list=PLhWB2ZsrULv-wEM8JDKA1zk8_2Lc88I-s) on word embedding, which I highly recommend watching\n",
    "\n",
    "More by Mikolov et al.:\n",
    "\n",
    "- For the readings for class read on article by Mikolov et al. (2013) however the same year the team released an additional [paper](https://arxiv.org/abs/1310.4546) called *Distributed Representations of Words and Phrases and their Compositionality*. There is even a [video reading](https://www.youtube.com/watch?v=yexR53My2O4) of the paper which takes you through the main points.\n",
    "\n",
    "Cross-lingual word embeddings:\n",
    "\n",
    "- Wish I had the time to go through Cross-lingual word embeddings. The idea is that you overlay word embeddings for two languages and then this act as a way of translating between languages. It is a really cool application of word embeddings so if you feel like digging into it I recommend [this podcast episode](https://soundcloud.com/nlp-highlights/57-a-survey-of-cross-lingual-word-embedding-models-with-sebastian-ruder) (in general this podcast is great). You can also watch Kevin Clark (Manning's PhD student) give a [talk](https://www.youtube.com/watch?v=3wWZBGN-iX8&list=PLoROMvodv4rOhcuXMZkNm7j3fVwBBY42z&index=20) on how use word embeddings for translation without any training data.\n",
    "\n"
   ],
   "metadata": {}
  }
 ],
 "metadata": {
  "orig_nbformat": 4,
  "language_info": {
   "name": "python",
   "version": "3.7.3-final",
   "mimetype": "text/x-python",
   "codemirror_mode": {
    "name": "ipython",
    "version": 3
   },
   "pygments_lexer": "ipython3",
   "nbconvert_exporter": "python",
   "file_extension": ".py"
  },
  "kernelspec": {
   "name": "python37364bit9d4da035993a4b1291b48132c26da3a4",
   "display_name": "Python 3.7.3 64-bit"
  },
  "interpreter": {
   "hash": "2136a9c3637fd160483224d7922e48bf03b650be5dff26724a0c1f8d1279953b"
  }
 },
 "nbformat": 4,
 "nbformat_minor": 2
}